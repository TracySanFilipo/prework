{
 "cells": [
  {
   "cell_type": "code",
   "execution_count": 2,
   "metadata": {
    "collapsed": true
   },
   "outputs": [],
   "source": [
    "def lhs(boolean):\n",
    "    print(\"lhs\")\n",
    "    return boolean\n",
    "\n",
    "def rhs(boolean):\n",
    "    print(\"rhs\")\n",
    "    return boolean"
   ]
  },
  {
   "cell_type": "code",
   "execution_count": 5,
   "metadata": {
    "collapsed": false
   },
   "outputs": [
    {
     "name": "stdout",
     "output_type": "stream",
     "text": [
      "lhs\n"
     ]
    }
   ],
   "source": [
    "if lhs(False) and rhs(True):\n",
    "    print(\"both were true\")"
   ]
  },
  {
   "cell_type": "code",
   "execution_count": 6,
   "metadata": {
    "collapsed": true
   },
   "outputs": [],
   "source": [
    "my_day = [\"Wake up\", \"curse at kitty\", \"drive to work\", \"coffee\"]"
   ]
  },
  {
   "cell_type": "code",
   "execution_count": 9,
   "metadata": {
    "collapsed": false
   },
   "outputs": [],
   "source": [
    "if len(my_day) >= 5 and my_day[5] == \"lunch\":\n",
    "    print(\"say yum!!!!\")"
   ]
  },
  {
   "cell_type": "code",
   "execution_count": 13,
   "metadata": {
    "collapsed": false
   },
   "outputs": [
    {
     "name": "stdout",
     "output_type": "stream",
     "text": [
      "lhs\n",
      "at least one was True\n"
     ]
    }
   ],
   "source": [
    "if lhs(True) or rhs(False):\n",
    "    print(\"at least one was True\")"
   ]
  },
  {
   "cell_type": "code",
   "execution_count": 33,
   "metadata": {
    "collapsed": false
   },
   "outputs": [],
   "source": [
    "def my_function():\n",
    "    \"\"\"This is a docstring.\n",
    "    Help about the function. Describe inputs and outputs.\n",
    "    it MUST be the first statement in the\n",
    "    relevant block (function, class, etc.)\"\"\"\n",
    "    pass\n",
    "\n"
   ]
  },
  {
   "cell_type": "code",
   "execution_count": 34,
   "metadata": {
    "collapsed": false
   },
   "outputs": [
    {
     "name": "stdout",
     "output_type": "stream",
     "text": [
      "Help on function my_function in module __main__:\n",
      "\n",
      "my_function()\n",
      "    This is a docstring.\n",
      "    Help about the function. Describe inputs and outputs.\n",
      "    it MUST be the first statement in a function\n",
      "\n"
     ]
    }
   ],
   "source": [
    "help(my_function)"
   ]
  },
  {
   "cell_type": "code",
   "execution_count": 21,
   "metadata": {
    "collapsed": false
   },
   "outputs": [
    {
     "name": "stdout",
     "output_type": "stream",
     "text": [
      "<class 'function'>\n",
      "<class 'NoneType'>\n"
     ]
    }
   ],
   "source": [
    "print(type(my_function))\n",
    "print(type(my_function()))"
   ]
  },
  {
   "cell_type": "code",
   "execution_count": 27,
   "metadata": {
    "collapsed": false
   },
   "outputs": [],
   "source": [
    "for i in range(100):\n",
    "    pass"
   ]
  },
  {
   "cell_type": "code",
   "execution_count": 39,
   "metadata": {
    "collapsed": true
   },
   "outputs": [],
   "source": [
    "def get_num_from_user():\n",
    "    user_input = input(\"enter a number \")\n",
    "    try:\n",
    "        user_int = int(user_input)\n",
    "    except ValueError:\n",
    "        try:\n",
    "            user_float = float(user_input)\n",
    "            print(\"it was a float\")\n",
    "        except ValueError:\n",
    "            print(user_input, \"was not a number\")\n",
    "\n",
    "    "
   ]
  },
  {
   "cell_type": "code",
   "execution_count": 43,
   "metadata": {
    "collapsed": false
   },
   "outputs": [
    {
     "name": "stdout",
     "output_type": "stream",
     "text": [
      "enter a number 4.0\n",
      "it was a float\n"
     ]
    }
   ],
   "source": [
    "get_num_from_user()"
   ]
  },
  {
   "cell_type": "code",
   "execution_count": null,
   "metadata": {
    "collapsed": true
   },
   "outputs": [],
   "source": []
  }
 ],
 "metadata": {
  "kernelspec": {
   "display_name": "Python 3",
   "language": "python",
   "name": "python3"
  },
  "language_info": {
   "codemirror_mode": {
    "name": "ipython",
    "version": 3
   },
   "file_extension": ".py",
   "mimetype": "text/x-python",
   "name": "python",
   "nbconvert_exporter": "python",
   "pygments_lexer": "ipython3",
   "version": "3.5.2"
  }
 },
 "nbformat": 4,
 "nbformat_minor": 1
}
