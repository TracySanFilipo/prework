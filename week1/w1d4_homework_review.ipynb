{
 "cells": [
  {
   "cell_type": "code",
   "execution_count": 19,
   "metadata": {
    "collapsed": false
   },
   "outputs": [],
   "source": [
    "# \n",
    "def clean_sentence(sentence):\n",
    "    out_str = \"\"\n",
    "    for char in sentence:\n",
    "        if char.isalpha():\n",
    "            out_str += char.lower()\n",
    "    return out_str\n",
    "\n",
    "def rev_word(word):\n",
    "    if len(word) <= 1:\n",
    "        return word\n",
    "    #return word[-1] + rev_word(word[:-1])\n",
    "    return rev_word(word[1:]) + word[0]\n",
    "\n",
    "def is_palindrome(sentence):\n",
    "    \"\"\"recursive reverse the word\"\"\"\n",
    "    sentence = clean_sentence(sentence)\n",
    "    return sentence == rev_word(sentence)\n",
    "\n",
    "def is_palindrome(sentence):\n",
    "    \"\"\"iterative compare the characters\"\"\"\n",
    "    sentence = clean_sentence(sentence)\n",
    "    for i in range(len(sentence)//2):\n",
    "        if sentence[i] != sentence[-(i+1)]:\n",
    "            return False\n",
    "    return True\n",
    "    \n",
    "#def is_palindrome(s):\n",
    "#    s = clean_sentence(s)\n",
    "#    return s[:len(s)//2 + len(s)%2] == s[len(s)//2:][::-1]\n",
    "#    return s == s[::-1]"
   ]
  },
  {
   "cell_type": "code",
   "execution_count": 20,
   "metadata": {
    "collapsed": false
   },
   "outputs": [
    {
     "data": {
      "text/plain": [
       "'halb id halb'"
      ]
     },
     "execution_count": 20,
     "metadata": {},
     "output_type": "execute_result"
    }
   ],
   "source": [
    "rev_word(\"blah di blah\")"
   ]
  },
  {
   "cell_type": "code",
   "execution_count": 21,
   "metadata": {
    "collapsed": false
   },
   "outputs": [
    {
     "name": "stdout",
     "output_type": "stream",
     "text": [
      "aba\n"
     ]
    },
    {
     "data": {
      "text/plain": [
       "True"
      ]
     },
     "execution_count": 21,
     "metadata": {},
     "output_type": "execute_result"
    }
   ],
   "source": [
    "is_palindrome(input())"
   ]
  },
  {
   "cell_type": "code",
   "execution_count": 24,
   "metadata": {
    "collapsed": false
   },
   "outputs": [],
   "source": [
    "import os.path\n",
    "import os"
   ]
  },
  {
   "cell_type": "code",
   "execution_count": 25,
   "metadata": {
    "collapsed": false
   },
   "outputs": [
    {
     "name": "stdout",
     "output_type": "stream",
     "text": [
      "['.direnv', '.DS_Store', '.envrc', '.git', '.gitignore', '.ipynb_checkpoints', 'grading', 'prework', 'README.md', 'resources', 'students.txt', 'week1', 'week2', 'week3', 'week4', 'week5', 'week6', 'week7', 'week8', 'week9']\n"
     ]
    }
   ],
   "source": [
    "print(os.listdir(\"/Users/sam.boyarsky/cohorts/2016_10/prework\"))"
   ]
  },
  {
   "cell_type": "code",
   "execution_count": 35,
   "metadata": {
    "collapsed": true
   },
   "outputs": [],
   "source": [
    "def walk_tree(path):\n",
    "    for entry in os.listdir(path):\n",
    "        if entry == \".direnv\": continue\n",
    "        #1 if it is a file, print the filename\n",
    "        #2 if it is a directory, walk_tree of the directory\n",
    "        if os.path.isdir(path + os.sep + entry):\n",
    "            walk_tree(path + os.sep + entry)\n",
    "        else:\n",
    "            #it was a file, print the file (with its full path)\n",
    "            #print(path + os.sep + entry)\n",
    "            print(entry)\n"
   ]
  },
  {
   "cell_type": "code",
   "execution_count": 37,
   "metadata": {
    "collapsed": false
   },
   "outputs": [],
   "source": [
    "#walk_tree(\"/Users/sam.boyarsky/cohorts/2016_10/prework\")"
   ]
  },
  {
   "cell_type": "code",
   "execution_count": null,
   "metadata": {
    "collapsed": true
   },
   "outputs": [],
   "source": []
  }
 ],
 "metadata": {
  "kernelspec": {
   "display_name": "Python 3",
   "language": "python",
   "name": "python3"
  },
  "language_info": {
   "codemirror_mode": {
    "name": "ipython",
    "version": 3
   },
   "file_extension": ".py",
   "mimetype": "text/x-python",
   "name": "python",
   "nbconvert_exporter": "python",
   "pygments_lexer": "ipython3",
   "version": "3.5.2"
  }
 },
 "nbformat": 4,
 "nbformat_minor": 1
}
