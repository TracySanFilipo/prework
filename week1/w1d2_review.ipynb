{
 "cells": [
  {
   "cell_type": "markdown",
   "metadata": {},
   "source": [
    "# Day 1 review"
   ]
  },
  {
   "cell_type": "code",
   "execution_count": null,
   "metadata": {
    "collapsed": false
   },
   "outputs": [
    {
     "name": "stdout",
     "output_type": "stream",
     "text": [
      "Please enter something adfg\n"
     ]
    }
   ],
   "source": [
    "user_input = input(\"Please enter something \")\n",
    "try:\n",
    "    user_input = float(user_input)\n",
    "except ValueError:\n",
    "    input_type = \"string\"\n",
    "else:\n",
    "    input_type = \"number\"\n",
    "\n",
    "\n",
    "\n",
    "if input_type == \"string\":\n",
    "    while True:\n",
    "        pass\n",
    "    #do string stuffa\n",
    "elif input_type == \"number\":\n",
    "    total = 0\n",
    "    count = 0\n",
    "    while True:\n",
    "        total += user_input\n",
    "        count += 1\n",
    "        try:\n",
    "            user_input = input(\"Please enter a number \")\n",
    "            if len(user_input) == 0:\n",
    "                break\n",
    "            user_input = float(user_input)\n",
    "        except ValueError:\n",
    "            print(\"that was not a number.\")\n",
    "    print(\"total: {}\\ncount: {}\\naverage: {}\".format(total, count, total/count))\n",
    "    #do number stuff    "
   ]
  },
  {
   "cell_type": "markdown",
   "metadata": {},
   "source": [
    "# Types"
   ]
  },
  {
   "cell_type": "code",
   "execution_count": 5,
   "metadata": {
    "collapsed": false
   },
   "outputs": [
    {
     "name": "stdout",
     "output_type": "stream",
     "text": [
      " demo of ''' \"\"\"\b\"\"\" ''' \n"
     ]
    }
   ],
   "source": [
    "int_number = 5\n",
    "float_number = 3.14\n",
    "dq_string = \"double quotes\"\n",
    "sq_string = 'single quotes'\n",
    "tdq_string = \"\"\"triple double quotes\"\"\"\n",
    "tsq_string = '''triple single quotes'''\n",
    "odd_string = \"\"\" demo of ''' \\\"\\\"\\\"\\\"\\\"\\\" ''' \"\"\"\n",
    "print(odd_string)\n",
    "true = True\n",
    "false = False"
   ]
  },
  {
   "cell_type": "markdown",
   "metadata": {},
   "source": [
    "# Variables & Operators"
   ]
  },
  {
   "cell_type": "code",
   "execution_count": 9,
   "metadata": {
    "collapsed": false
   },
   "outputs": [
    {
     "name": "stdout",
     "output_type": "stream",
     "text": [
      "True\n",
      "True\n",
      "True\n",
      "False\n",
      "False\n",
      "5.92159\n",
      "0.3615900000000001\n",
      "8.733620199999999\n",
      "1.130068345323741\n",
      "1.0\n",
      "24.103251164632656\n",
      "0.3615900000000001\n"
     ]
    }
   ],
   "source": [
    "meaningful_variable_names = \"use them.\"\n",
    "pi = 3.14159\n",
    "e = 2.78\n",
    "print(pi > e)\n",
    "print(pi >= pi)\n",
    "print(pi == pi)\n",
    "print(pi < e)\n",
    "print(pi <= e)\n",
    "print(pi + e)\n",
    "print(pi - e)\n",
    "print(pi * e)\n",
    "print(pi / e)\n",
    "print(pi // e)\n",
    "print(pi ** e)\n",
    "print(pi % e)"
   ]
  },
  {
   "cell_type": "code",
   "execution_count": 16,
   "metadata": {
    "collapsed": false
   },
   "outputs": [
    {
     "data": {
      "text/plain": [
       "'placeholder curly braces 5.00'"
      ]
     },
     "execution_count": 16,
     "metadata": {},
     "output_type": "execute_result"
    }
   ],
   "source": [
    "\"placeholder curly braces {0:.2f}\".format(5.0)"
   ]
  },
  {
   "cell_type": "code",
   "execution_count": 18,
   "metadata": {
    "collapsed": false
   },
   "outputs": [
    {
     "data": {
      "text/plain": [
       "'string, or anything that can become a string, 6.70'"
      ]
     },
     "execution_count": 18,
     "metadata": {},
     "output_type": "execute_result"
    }
   ],
   "source": [
    "#This is the old style of string formatting.\n",
    "\"%s, %.2f\" % (\"string, or anything that can become a string\", 6.7)"
   ]
  },
  {
   "cell_type": "code",
   "execution_count": 21,
   "metadata": {
    "collapsed": false
   },
   "outputs": [
    {
     "name": "stdout",
     "output_type": "stream",
     "text": [
      "<class 'int'>\n",
      "<class 'str'>\n",
      "<class 'int'>\n"
     ]
    }
   ],
   "source": [
    "#Casting...  getting a copy of an object that is a different type.\n",
    "a = 5\n",
    "b = str(a)\n",
    "c = int(b)\n",
    "print(type(a))\n",
    "print(type(b))\n",
    "print(type(c))"
   ]
  },
  {
   "cell_type": "code",
   "execution_count": null,
   "metadata": {
    "collapsed": true
   },
   "outputs": [],
   "source": []
  }
 ],
 "metadata": {
  "kernelspec": {
   "display_name": "Python 3",
   "language": "python",
   "name": "python3"
  },
  "language_info": {
   "codemirror_mode": {
    "name": "ipython",
    "version": 3
   },
   "file_extension": ".py",
   "mimetype": "text/x-python",
   "name": "python",
   "nbconvert_exporter": "python",
   "pygments_lexer": "ipython3",
   "version": "3.5.2"
  }
 },
 "nbformat": 4,
 "nbformat_minor": 1
}
