{
 "cells": [
  {
   "cell_type": "code",
   "execution_count": 1,
   "metadata": {
    "collapsed": true
   },
   "outputs": [],
   "source": [
    "filename = \"/Users/sam.boyarsky/data/books/alice_in_wonderland.txt\"\n",
    "#Read in this file and print out a histogram of all the a-z characters in it.\n",
    "#case insensitive (skip punctuation)"
   ]
  },
  {
   "cell_type": "code",
   "execution_count": 15,
   "metadata": {
    "collapsed": false
   },
   "outputs": [
    {
     "name": "stdout",
     "output_type": "stream",
     "text": [
      "{'e': 6858, 'o': 4358, 'f': 1153, 'g': 1352, 'p': 989, 'h': 3214, 'z': 34, 'n': 3643, 'w': 1268, 'u': 1687, 'q': 96, 'c': 1535, 'b': 804, 'r': 3244, 'm': 1143, 'x': 74, 'i': 3922, 't': 5393, 'y': 1043, 's': 3216, 'l': 2311, 'k': 551, 'd': 2365, 'v': 409, 'j': 143, 'a': 4410}\n"
     ]
    }
   ],
   "source": [
    "with open(filename, 'r') as f:\n",
    "    letter_dict = {}\n",
    "    for line in f:\n",
    "        for character in line:\n",
    "            character = character.lower()\n",
    "            if character in 'abcdefghijklmnopqrstuvwxyz':\n",
    "                if character in letter_dict:\n",
    "                    letter_dict[character] += 1\n",
    "                else:\n",
    "                    letter_dict[character] = 1   \n",
    "    print(letter_dict)"
   ]
  },
  {
   "cell_type": "code",
   "execution_count": 24,
   "metadata": {
    "collapsed": false
   },
   "outputs": [
    {
     "name": "stdout",
     "output_type": "stream",
     "text": [
      "a 4410\n",
      "b 804\n",
      "c 1535\n",
      "d 2365\n",
      "e 6858\n",
      "f 1153\n",
      "g 1352\n",
      "h 3214\n",
      "i 3922\n",
      "j 143\n",
      "k 551\n",
      "l 2311\n",
      "m 1143\n",
      "n 3643\n",
      "o 4358\n",
      "p 989\n",
      "q 96\n",
      "r 3244\n",
      "s 3216\n",
      "t 5393\n",
      "u 1687\n",
      "v 409\n",
      "w 1268\n",
      "x 74\n",
      "y 1043\n",
      "z 34\n"
     ]
    }
   ],
   "source": [
    "upper_offset = 65\n",
    "lower_offset = 97\n",
    "\n",
    "with open(filename, 'r') as f:\n",
    "    letter_list = [0] * 256\n",
    "    for line in f:\n",
    "        for character in line:\n",
    "            if ord(character) < 256:\n",
    "                letter_list[ord(character)] += 1\n",
    "    for char in range(26):\n",
    "        print(chr(char + lower_offset), letter_list[char + upper_offset] + letter_list[char + lower_offset])"
   ]
  },
  {
   "cell_type": "code",
   "execution_count": 22,
   "metadata": {
    "collapsed": false
   },
   "outputs": [
    {
     "name": "stdout",
     "output_type": "stream",
     "text": [
      "0b1011010\n",
      "0b1111010\n"
     ]
    }
   ],
   "source": [
    "print(bin(ord(\"Z\")))\n",
    "print(bin(ord(\"z\")))"
   ]
  },
  {
   "cell_type": "code",
   "execution_count": null,
   "metadata": {
    "collapsed": true
   },
   "outputs": [],
   "source": []
  }
 ],
 "metadata": {
  "kernelspec": {
   "display_name": "Python 3",
   "language": "python",
   "name": "python3"
  },
  "language_info": {
   "codemirror_mode": {
    "name": "ipython",
    "version": 3
   },
   "file_extension": ".py",
   "mimetype": "text/x-python",
   "name": "python",
   "nbconvert_exporter": "python",
   "pygments_lexer": "ipython3",
   "version": "3.5.2"
  }
 },
 "nbformat": 4,
 "nbformat_minor": 1
}
