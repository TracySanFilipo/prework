{
 "cells": [
  {
   "cell_type": "code",
   "execution_count": 113,
   "metadata": {
    "collapsed": true
   },
   "outputs": [],
   "source": [
    "import psycopg2"
   ]
  },
  {
   "cell_type": "code",
   "execution_count": 114,
   "metadata": {
    "collapsed": true
   },
   "outputs": [],
   "source": [
    "conn = psycopg2.connect(\"dbname=sam.boyarsky user=sam.boyarsky host=localhost\")\n",
    "cur = conn.cursor()"
   ]
  },
  {
   "cell_type": "code",
   "execution_count": 115,
   "metadata": {
    "collapsed": true
   },
   "outputs": [],
   "source": [
    "cur.execute(\"SELECT * FROM artist\")"
   ]
  },
  {
   "cell_type": "code",
   "execution_count": 116,
   "metadata": {
    "collapsed": false
   },
   "outputs": [
    {
     "data": {
      "text/plain": [
       "[(1, 'BJORK')]"
      ]
     },
     "execution_count": 116,
     "metadata": {},
     "output_type": "execute_result"
    }
   ],
   "source": [
    "cur.fetchall()"
   ]
  },
  {
   "cell_type": "code",
   "execution_count": 153,
   "metadata": {
    "collapsed": false
   },
   "outputs": [],
   "source": [
    "class Artist:\n",
    "    def __init__(self, name, id=None):\n",
    "        print(name, id)\n",
    "        self.id = id\n",
    "        self.name = name\n",
    "    \n",
    "    def load(id):\n",
    "        cur.execute(\"SELECT * FROM artist WHERE id=%s\", (id,))\n",
    "        row = cur.fetchone()\n",
    "        print(row)\n",
    "        return Artist(row[1], row[0])\n",
    "    \n",
    "    def save(self):\n",
    "        if self.id == None:\n",
    "            #INSERT\n",
    "            cur.execute(\"INSERT INTO artist (name) VALUES (%s) RETURNING id\", (self.name,))\n",
    "            #update the id of this object.\n",
    "            self.id = cur.fetchone()[0]\n",
    "            conn.commit()\n",
    "        else:\n",
    "            #UPDATE\n",
    "            cur.execute(\"UPDATE artist SET name=%s WHERE id=%s\", (self.name, self.id))\n",
    "            conn.commit()\n",
    "    \n",
    "    def __repr__(self):\n",
    "        return self.name\n",
    "    \n",
    "class Album:\n",
    "    def __init__(self, name, artist_id, id=None):\n",
    "        self.id = id\n",
    "        self.name = name\n",
    "        self.artist_id = artist_id\n",
    "    \n",
    "    def load(id):\n",
    "        cur.execute(\"SELECT id, name, artist_id FROM album WHERE id=%s\", (id,))\n",
    "        row = cur.fetchone()\n",
    "        print(row)\n",
    "        return Artist(row[1], row[0])\n",
    "    \n",
    "    def save(self):\n",
    "        if self.id == None:\n",
    "            #INSERT\n",
    "            cur.execute(\"INSERT INTO album (name, artist_id) VALUES (%s, %s)\", (self.name, self.artist_id))\n",
    "            conn.commit()            \n",
    "        else:\n",
    "            #UPDATE\n",
    "            cur.execute(\"UPDATE album SET name=%s, artist_id=%s WHERE id=%s\", (self.name, self.artist_id, self.id))\n",
    "            conn.commit()\n",
    "    \n",
    "    def __repr__(self):\n",
    "        return self.name\n"
   ]
  },
  {
   "cell_type": "code",
   "execution_count": 142,
   "metadata": {
    "collapsed": false
   },
   "outputs": [
    {
     "name": "stdout",
     "output_type": "stream",
     "text": [
      "Led Zeppelin None\n"
     ]
    }
   ],
   "source": [
    "lz = Artist(\"Led Zeppelin\")"
   ]
  },
  {
   "cell_type": "code",
   "execution_count": 143,
   "metadata": {
    "collapsed": false
   },
   "outputs": [],
   "source": [
    "hoth = Album(\"Houses of the Holy\", 2)\n",
    "hoth.save()\n"
   ]
  },
  {
   "cell_type": "code",
   "execution_count": 144,
   "metadata": {
    "collapsed": true
   },
   "outputs": [],
   "source": [
    "lz4 = Album(\"ZOZO\", 2)\n",
    "lz4.save()"
   ]
  },
  {
   "cell_type": "code",
   "execution_count": 145,
   "metadata": {
    "collapsed": true
   },
   "outputs": [],
   "source": [
    "b.name = \"BJORK\""
   ]
  },
  {
   "cell_type": "code",
   "execution_count": 146,
   "metadata": {
    "collapsed": false
   },
   "outputs": [],
   "source": [
    "b.save()"
   ]
  },
  {
   "cell_type": "code",
   "execution_count": 147,
   "metadata": {
    "collapsed": false
   },
   "outputs": [
    {
     "data": {
      "text/plain": [
       "1"
      ]
     },
     "execution_count": 147,
     "metadata": {},
     "output_type": "execute_result"
    }
   ],
   "source": [
    "b.id"
   ]
  },
  {
   "cell_type": "code",
   "execution_count": 148,
   "metadata": {
    "collapsed": false
   },
   "outputs": [],
   "source": [
    "new_artist.save()"
   ]
  },
  {
   "cell_type": "code",
   "execution_count": 149,
   "metadata": {
    "collapsed": true
   },
   "outputs": [],
   "source": [
    "cur.execute(\"SELECT * FROM album, artist WHERE album.artist_id=artist.id\")"
   ]
  },
  {
   "cell_type": "code",
   "execution_count": 150,
   "metadata": {
    "collapsed": false
   },
   "outputs": [
    {
     "data": {
      "text/plain": [
       "[(1, 'Houses of the Holy', 2, 2, 'Led Zeppelin'),\n",
       " (2, 'ZOZO', 2, 2, 'Led Zeppelin'),\n",
       " (3, 'Houses of the Holy', 2, 2, 'Led Zeppelin'),\n",
       " (4, 'ZOZO', 2, 2, 'Led Zeppelin')]"
      ]
     },
     "execution_count": 150,
     "metadata": {},
     "output_type": "execute_result"
    }
   ],
   "source": [
    "cur.fetchall()"
   ]
  },
  {
   "cell_type": "code",
   "execution_count": 156,
   "metadata": {
    "collapsed": false
   },
   "outputs": [
    {
     "name": "stdout",
     "output_type": "stream",
     "text": [
      "Morphine None\n"
     ]
    }
   ],
   "source": [
    "another_new = Artist(\"Morphine\")"
   ]
  },
  {
   "cell_type": "code",
   "execution_count": 159,
   "metadata": {
    "collapsed": false
   },
   "outputs": [],
   "source": [
    "another_new.save()"
   ]
  },
  {
   "cell_type": "code",
   "execution_count": null,
   "metadata": {
    "collapsed": true
   },
   "outputs": [],
   "source": []
  }
 ],
 "metadata": {
  "kernelspec": {
   "display_name": "Python 3",
   "language": "python",
   "name": "python3"
  },
  "language_info": {
   "codemirror_mode": {
    "name": "ipython",
    "version": 3
   },
   "file_extension": ".py",
   "mimetype": "text/x-python",
   "name": "python",
   "nbconvert_exporter": "python",
   "pygments_lexer": "ipython3",
   "version": "3.5.2"
  }
 },
 "nbformat": 4,
 "nbformat_minor": 1
}
