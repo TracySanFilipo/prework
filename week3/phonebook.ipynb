{
 "cells": [
  {
   "cell_type": "code",
   "execution_count": 1,
   "metadata": {
    "collapsed": false
   },
   "outputs": [],
   "source": [
    "class Phonebook:\n",
    "    \n",
    "    def __init__(self, data_filename):\n",
    "        self.phonebook = {}\n",
    "        with open(data_filename) as f:\n",
    "            for line in f:\n",
    "                name, number = line.split(\"¥\")\n",
    "                self.phonebook[name.strip()] = number.strip()\n",
    "    \n",
    "    def add(self):\n",
    "        name = input(\"what name \")\n",
    "        number = input(\"what number \")\n",
    "        self.phonebook[name.strip()] = number.strip()\n",
    "        \n",
    "    def display(self):\n",
    "        for name, number in self.phonebook.items():\n",
    "            print(name, number)\n",
    "\n",
    "    def search(self):\n",
    "        name = input(\"for whom? \")\n",
    "        if name in self.phonebook:\n",
    "            print(name, self.phonebook[name])\n",
    "\n",
    "    "
   ]
  },
  {
   "cell_type": "code",
   "execution_count": 2,
   "metadata": {
    "collapsed": false
   },
   "outputs": [],
   "source": [
    "# m = Menu()\n",
    "# pb = Phonebook()\n",
    "# m.register(\"add\", pb.add)\n",
    "# m.register(\"show\", pb.display)\n",
    "# m.register(\"search\", pb.search)\n",
    "# m.register(\"search\", searchMenu.display, pb.search)\n",
    "\n",
    "# m.display()"
   ]
  },
  {
   "cell_type": "code",
   "execution_count": 3,
   "metadata": {
    "collapsed": true
   },
   "outputs": [],
   "source": [
    "# would you like to: add, show, search or quit?\n",
    "# > add\n"
   ]
  },
  {
   "cell_type": "code",
   "execution_count": 4,
   "metadata": {
    "collapsed": false
   },
   "outputs": [],
   "source": [
    "from collections import OrderedDict\n",
    "class Menu:\n",
    "    def __init__(self, quit_option=True):\n",
    "        self.quit_option = quit_option\n",
    "        self.options = OrderedDict()\n",
    "    \n",
    "    def register(self, name, function):\n",
    "        self.options[name] = function\n",
    "        \n",
    "    def display(self):\n",
    "        while True:\n",
    "            for index, option in enumerate(self.options):\n",
    "                print(\"{}){}\".format(index,option))\n",
    "            if self.quit_option:\n",
    "                print(\"{}){}\".format(index+1,\"Quit\"))\n",
    "\n",
    "            choice = input(\"what would you like to do? \")\n",
    "            for index, option in enumerate(self.options):\n",
    "                if str(index) == choice:\n",
    "                      self.options[option]()\n",
    "\n",
    "                        \n",
    "def test():\n",
    "    #run test functions for menu.\n",
    "    \n",
    "if __name__ == \"__main__\":\n",
    "    test()"
   ]
  },
  {
   "cell_type": "code",
   "execution_count": 5,
   "metadata": {
    "collapsed": true
   },
   "outputs": [],
   "source": [
    "m = Menu()\n",
    "m.register(\"add\", lambda: print(\"runnin add function\"))\n",
    "m.register(\"subtract\", lambda: print(\"running subtract function\"))"
   ]
  },
  {
   "cell_type": "code",
   "execution_count": 6,
   "metadata": {
    "collapsed": false
   },
   "outputs": [],
   "source": [
    "# m.display()"
   ]
  },
  {
   "cell_type": "code",
   "execution_count": 8,
   "metadata": {
    "collapsed": true
   },
   "outputs": [],
   "source": [
    "m = Menu()\n",
    "m.register(\"this function\", lambda: print(\"I'm this function\"))\n",
    "m.register(\"that function\", lambda: print(\"type less\"))"
   ]
  },
  {
   "cell_type": "code",
   "execution_count": null,
   "metadata": {
    "collapsed": false
   },
   "outputs": [
    {
     "name": "stdout",
     "output_type": "stream",
     "text": [
      "0)this function\n",
      "1)that function\n",
      "2)Quit\n",
      "what would you like to do? 0\n",
      "I'm this function\n",
      "0)this function\n",
      "1)that function\n",
      "2)Quit\n",
      "what would you like to do? 1\n",
      "type less\n",
      "0)this function\n",
      "1)that function\n",
      "2)Quit\n"
     ]
    }
   ],
   "source": [
    "m.display()"
   ]
  },
  {
   "cell_type": "code",
   "execution_count": null,
   "metadata": {
    "collapsed": true
   },
   "outputs": [],
   "source": []
  }
 ],
 "metadata": {
  "kernelspec": {
   "display_name": "Python 3",
   "language": "python",
   "name": "python3"
  },
  "language_info": {
   "codemirror_mode": {
    "name": "ipython",
    "version": 3
   },
   "file_extension": ".py",
   "mimetype": "text/x-python",
   "name": "python",
   "nbconvert_exporter": "python",
   "pygments_lexer": "ipython3",
   "version": "3.5.2"
  }
 },
 "nbformat": 4,
 "nbformat_minor": 1
}
