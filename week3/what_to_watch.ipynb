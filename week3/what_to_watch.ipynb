{
 "cells": [
  {
   "cell_type": "code",
   "execution_count": 205,
   "metadata": {
    "collapsed": false
   },
   "outputs": [],
   "source": [
    "import csv\n",
    "import math\n",
    "movie_filename = \"/Users/sam.boyarsky/data/movie_lens/ml-100k/u.item\"\n",
    "rating_filename = \"/Users/sam.boyarsky/data/movie_lens/ml-100k/u.data\"\n",
    "user_filename = \"/Users/sam.boyarsky/data/movie_lens/ml-100k/u.user\""
   ]
  },
  {
   "cell_type": "code",
   "execution_count": 215,
   "metadata": {
    "collapsed": true
   },
   "outputs": [],
   "source": [
    "class Movie:\n",
    "    def __init__(self, **kwargs):\n",
    "        self.movie_id = int(kwargs[\"movie_id\"])\n",
    "        self.title = kwargs[\"title\"]\n",
    "    \n",
    "    def __repr__(self):\n",
    "        return \"{} {}\".format(self.movie_id, self.title)\n",
    "    \n",
    "    def get_avg(self, rating_dict):\n",
    "        \n",
    "        return 6\n",
    "    \n",
    "class User:\n",
    "    def __init__(self, **kwargs):\n",
    "        self.user_id = int(kwargs[\"user_id\"])\n",
    "        self.age = kwargs[\"age\"]\n",
    "        self.gender = kwargs[\"gender\"]\n",
    "        self.occupation = kwargs[\"occupation\"]\n",
    "\n",
    "    def __repr__(self):\n",
    "        return \"{} {} {} {}\".format(self.user_id, self.occupation, self.age, self.gender)\n",
    "\n",
    "class Rating:\n",
    "    def __init__(self, **kwargs):\n",
    "        self.user_id = int(kwargs[\"user_id\"])\n",
    "        self.movie_id = int(kwargs[\"movie_id\"])\n",
    "        self.rating = float(kwargs[\"rating\"])\n",
    "    \n",
    "    def __repr__(self):\n",
    "        return \"{} {} {}\".format(self.user_id, self.movie_id, self.rating)"
   ]
  },
  {
   "cell_type": "code",
   "execution_count": 216,
   "metadata": {
    "collapsed": false
   },
   "outputs": [
    {
     "name": "stdout",
     "output_type": "stream",
     "text": [
      "1|Toy Story (1995)|01-Jan-1995||http://us.imdb.com/M/title-exact?Toy%20Story%20(1995)|0|0|0|1|1|1|0|0|0|0|0|0|0|0|0|0|0|0|0\r\n",
      "2|GoldenEye (1995)|01-Jan-1995||http://us.imdb.com/M/title-exact?GoldenEye%20(1995)|0|1|1|0|0|0|0|0|0|0|0|0|0|0|0|0|1|0|0\r\n",
      "3|Four Rooms (1995)|01-Jan-1995||http://us.imdb.com/M/title-exact?Four%20Rooms%20(1995)|0|0|0|0|0|0|0|0|0|0|0|0|0|0|0|0|1|0|0\r\n",
      "4|Get Shorty (1995)|01-Jan-1995||http://us.imdb.com/M/title-exact?Get%20Shorty%20(1995)|0|1|0|0|0|1|0|0|1|0|0|0|0|0|0|0|0|0|0\r\n",
      "5|Copycat (1995)|01-Jan-1995||http://us.imdb.com/M/title-exact?Copycat%20(1995)|0|0|0|0|0|0|1|0|1|0|0|0|0|0|0|0|1|0|0\r\n"
     ]
    }
   ],
   "source": [
    "!head -5 /Users/sam.boyarsky/data/movie_lens/ml-100k/u.item"
   ]
  },
  {
   "cell_type": "code",
   "execution_count": 217,
   "metadata": {
    "collapsed": false
   },
   "outputs": [],
   "source": [
    "def load_movies(movie_filename):\n",
    "    movie_dict = {}\n",
    "    with open(movie_filename, encoding=\"latin-1\") as f:\n",
    "        headers = [\"movie_id\", \"title\"]\n",
    "        reader = csv.DictReader(f, fieldnames=headers, delimiter=\"|\")\n",
    "        for row in reader:\n",
    "            del row[None]\n",
    "            m = Movie(**row)\n",
    "            movie_dict[m.movie_id] = m\n",
    "    return movie_dict\n",
    "\n",
    "\n",
    "def load_users(user_filename):\n",
    "    user_dict = {}\n",
    "    with open(user_filename, encoding=\"latin-1\") as f:\n",
    "        headers = [\"user_id\", \"age\", \"gender\", \"occupation\"]\n",
    "        reader = csv.DictReader(f, fieldnames=headers, delimiter=\"|\")\n",
    "        for row in reader:\n",
    "            del row[None]\n",
    "            u = User(**row)\n",
    "            user_dict[u.user_id] = u\n",
    "    return user_dict\n",
    "\n",
    "\n",
    "def load_ratings(rating_filename):\n",
    "    ratings_by_movie_id = {}\n",
    "    ratings_by_user_id = {}\n",
    "    with open(rating_filename, encoding=\"latin-1\") as f:\n",
    "        headers = [\"user_id\", \"movie_id\", \"rating\"]\n",
    "        reader = csv.DictReader(f, fieldnames=headers, delimiter=\"\\t\")\n",
    "        for row in reader:\n",
    "            del row[None]\n",
    "            r = Rating(**row)\n",
    "            ratings_by_movie_id.setdefault(r.movie_id, []).append(r)\n",
    "            ratings_by_user_id.setdefault(r.user_id, []).append(r)\n",
    "    return ratings_by_movie_id, ratings_by_user_id"
   ]
  },
  {
   "cell_type": "code",
   "execution_count": 218,
   "metadata": {
    "collapsed": false
   },
   "outputs": [],
   "source": [
    "md = load_movies(movie_filename)\n",
    "ud = load_users(user_filename)\n",
    "rdbm, rdbu = load_ratings(rating_filename)"
   ]
  },
  {
   "cell_type": "code",
   "execution_count": 219,
   "metadata": {
    "collapsed": false
   },
   "outputs": [],
   "source": [
    "def avg_rating_by_movie_id(movie_id):\n",
    "    list_of_ratings = rdbm[movie_id]\n",
    "    avg = sum([r.rating for r in list_of_ratings])/len(list_of_ratings)\n",
    "#    print(md[movie_id], avg)\n",
    "    return avg"
   ]
  },
  {
   "cell_type": "code",
   "execution_count": 220,
   "metadata": {
    "collapsed": false
   },
   "outputs": [],
   "source": [
    "def top_x_movies(x, min_ratings=5):\n",
    "    avg_ratings = {}\n",
    "    for movie in md.values():\n",
    "        if len(rdbm[movie.movie_id]) < min_ratings: continue\n",
    "        avg = avg_rating_by_movie_id(movie.movie_id)\n",
    "        avg_ratings[movie.title] = avg\n",
    "    count = 0\n",
    "    for title, avg_rating in sorted(avg_ratings.items(), key=lambda x: x[1], reverse=True):\n",
    "        if count >= x:\n",
    "            return\n",
    "        count += 1\n",
    "        print(count, title, avg_rating)"
   ]
  },
  {
   "cell_type": "code",
   "execution_count": 221,
   "metadata": {
    "collapsed": false
   },
   "outputs": [],
   "source": [
    "#top_x_movies(20,4)"
   ]
  },
  {
   "cell_type": "code",
   "execution_count": 222,
   "metadata": {
    "collapsed": true
   },
   "outputs": [],
   "source": [
    "def euclidean_distance(v, w):\n",
    "    \"\"\"Given two lists, give the Euclidean distance between them on a scale\n",
    "    of 0 to 1. 1 means the two lists are identical.\n",
    "    \"\"\"\n",
    "\n",
    "    # Guard against empty lists.\n",
    "    if len(v) is 0:\n",
    "        return 0\n",
    "\n",
    "    # Note that this is the same as vector subtraction.\n",
    "    differences = [v[idx] - w[idx] for idx in range(len(v))]\n",
    "    squares = [diff ** 2 for diff in differences]\n",
    "    sum_of_squares = sum(squares)\n",
    "\n",
    "    return 1 / (1 + math.sqrt(sum_of_squares))"
   ]
  },
  {
   "cell_type": "code",
   "execution_count": 223,
   "metadata": {
    "collapsed": true
   },
   "outputs": [],
   "source": [
    "def similarity(u1, u2):\n",
    "#    same_list = []\n",
    "    u1_list = []\n",
    "    u2_list = []\n",
    "    for u1_rating in rdbu[u1]:\n",
    "        for u2_rating in rdbu[u2]:\n",
    "            if u1_rating.movie_id == u2_rating.movie_id:\n",
    "                u1_list.append(u1_rating)\n",
    "                u2_list.append(u2_rating)\n",
    "                #same_list.append((u1_rating, u2_rating))\n",
    "    return euclidean_distance([r.rating for r in u1_list], [r.rating for r in u2_list])\n",
    "#    return euclidean_distance([r[0].rating for r in same_list],\n",
    "#                            [r[1].rating for r in same_list])\n",
    "    "
   ]
  },
  {
   "cell_type": "code",
   "execution_count": 224,
   "metadata": {
    "collapsed": false
   },
   "outputs": [
    {
     "data": {
      "text/plain": [
       "0.18660549686337075"
      ]
     },
     "execution_count": 224,
     "metadata": {},
     "output_type": "execute_result"
    }
   ],
   "source": [
    "similarity(1,4)"
   ]
  },
  {
   "cell_type": "code",
   "execution_count": 225,
   "metadata": {
    "collapsed": false
   },
   "outputs": [
    {
     "data": {
      "text/plain": [
       "6"
      ]
     },
     "execution_count": 225,
     "metadata": {},
     "output_type": "execute_result"
    }
   ],
   "source": [
    "md[1].get_avg()"
   ]
  },
  {
   "cell_type": "code",
   "execution_count": null,
   "metadata": {
    "collapsed": false
   },
   "outputs": [],
   "source": []
  },
  {
   "cell_type": "code",
   "execution_count": null,
   "metadata": {
    "collapsed": true
   },
   "outputs": [],
   "source": []
  },
  {
   "cell_type": "code",
   "execution_count": null,
   "metadata": {
    "collapsed": true
   },
   "outputs": [],
   "source": []
  },
  {
   "cell_type": "code",
   "execution_count": null,
   "metadata": {
    "collapsed": true
   },
   "outputs": [],
   "source": []
  },
  {
   "cell_type": "code",
   "execution_count": null,
   "metadata": {
    "collapsed": true
   },
   "outputs": [],
   "source": []
  }
 ],
 "metadata": {
  "kernelspec": {
   "display_name": "Python 3",
   "language": "python",
   "name": "python3"
  },
  "language_info": {
   "codemirror_mode": {
    "name": "ipython",
    "version": 3
   },
   "file_extension": ".py",
   "mimetype": "text/x-python",
   "name": "python",
   "nbconvert_exporter": "python",
   "pygments_lexer": "ipython3",
   "version": "3.5.2"
  }
 },
 "nbformat": 4,
 "nbformat_minor": 1
}
