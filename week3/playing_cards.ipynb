{
 "cells": [
  {
   "cell_type": "code",
   "execution_count": 188,
   "metadata": {
    "collapsed": false
   },
   "outputs": [],
   "source": [
    "class InvalidRankError(Exception):\n",
    "    pass\n",
    "class InvalidSuitError(Exception):\n",
    "    pass\n",
    "\n",
    "class Card:\n",
    "    ranks = {'A':1,\n",
    "             '2':2,\n",
    "             '3':3,\n",
    "             '4':4,\n",
    "             '5':5,\n",
    "             '6':6,\n",
    "             '7':7,\n",
    "             '8':8,\n",
    "             '9':9,\n",
    "             '10':10,\n",
    "             'J':11,\n",
    "             'Q':12,\n",
    "             'K':13}\n",
    "    ranks_inv = {1:'A',\n",
    "                 2:'2',\n",
    "                 3:'3',\n",
    "                 4:'4',\n",
    "                 5:'5',\n",
    "                 6:'6',\n",
    "                 7:'7',\n",
    "                 8:'8',\n",
    "                 9:'9',\n",
    "                 10:'10',\n",
    "                 11:'J',\n",
    "                 12:'Q',\n",
    "                 13:'K'}\n",
    "    suits = [\"Clubs\", \"Diamonds\", \"Hearts\", \"Spades\"]\n",
    "    suits_inv = {'C':'Clubs', \n",
    "                 'D':'Diamonds', \n",
    "                 'H':'Hearts', \n",
    "                 'S':'Spades'}\n",
    "    \n",
    "    def __init__(self, rank, suit):\n",
    "        if (rank not in Card.ranks and \n",
    "           rank not in Card.ranks_inv):\n",
    "            raise InvalidRankError\n",
    "        if (suit.title() not in Card.suits and \n",
    "           suit.upper() not in [s[0] for s in Card.suits]):\n",
    "            raise InvalidSuitError\n",
    "            \n",
    "        if isinstance(rank, int):\n",
    "            rank = Card.ranks_inv[rank]\n",
    "        if len(suit) == 1:\n",
    "            suit = Card.suits_inv[suit]\n",
    "            \n",
    "        self.rank = rank\n",
    "        self.suit = suit.title()\n",
    "        self.is_hidden = False\n",
    "        \n",
    "    def __eq__(self, other):\n",
    "        return self.suit == other.suit and self.rank == other.rank\n",
    "    \n",
    "    def compare_rank(self, other):\n",
    "        lhsr = Card.ranks[self.rank]\n",
    "        rhsr = Card.ranks[other.rank]\n",
    "        if lhsr == 1: lhsr = 14\n",
    "        if rhsr == 1: rhsr = 14\n",
    "        if lhsr < rhsr:\n",
    "            return 1\n",
    "        if lhsr > rhsr:\n",
    "            return -1\n",
    "        return 0\n",
    "    \n",
    "    def get_next_card(self):\n",
    "        if self.current_position > len(self.cards):\n",
    "            return None\n",
    "        out = self.cards[self.current_position]\n",
    "        self.current_position += 1\n",
    "        return out\n",
    "    \n",
    "    def __repr__(self):\n",
    "        if self.is_hidden:\n",
    "            return \"##\"\n",
    "        return \"{}{}\".format(self.rank, self.suit[0])\n",
    "\n",
    "    \n",
    "    def __str__(self):\n",
    "        if self.is_hidden:\n",
    "            return \"#####\"\n",
    "        return \"{} of {}\".format(self.rank, self.suit)\n"
   ]
  },
  {
   "cell_type": "code",
   "execution_count": null,
   "metadata": {
    "collapsed": false
   },
   "outputs": [],
   "source": []
  },
  {
   "cell_type": "code",
   "execution_count": 189,
   "metadata": {
    "collapsed": false
   },
   "outputs": [],
   "source": [
    "import random\n",
    "class Deck:\n",
    "    def __init__(self):\n",
    "        self.cards = []\n",
    "        for r in Card.ranks:\n",
    "            for s in Card.suits:\n",
    "                c = Card(r, s)\n",
    "                if random.randint(0,1):\n",
    "                    c.is_hidden = True\n",
    "                self.cards.append(c)\n",
    "    \n",
    "    def __getitem__(self, index):\n",
    "        return self.cards[index]\n",
    "    \n",
    "    def shuffle(self):\n",
    "        random.shuffle(self.cards)\n",
    "    \n",
    "    def __repr__(self):\n",
    "        return \"\".join(repr(self.cards))"
   ]
  },
  {
   "cell_type": "code",
   "execution_count": 190,
   "metadata": {
    "collapsed": false
   },
   "outputs": [
    {
     "name": "stdout",
     "output_type": "stream",
     "text": [
      "2 of Hearts\n",
      "K of Hearts\n"
     ]
    }
   ],
   "source": [
    "c = Card(rank=2, suit=\"Hearts\")\n",
    "d = Card(rank=13, suit=\"Hearts\")\n",
    "\n",
    "print(c)\n",
    "print(d)"
   ]
  },
  {
   "cell_type": "code",
   "execution_count": 191,
   "metadata": {
    "collapsed": false
   },
   "outputs": [],
   "source": [
    "d = Deck()\n",
    "d.shuffle()"
   ]
  },
  {
   "cell_type": "code",
   "execution_count": 192,
   "metadata": {
    "collapsed": false
   },
   "outputs": [
    {
     "name": "stdout",
     "output_type": "stream",
     "text": [
      "[##, JH, 10C, 6D, 3D, AS, 4D, QC, ##, 6H, QD, ##, 10S, ##, 2D, 4S, 8S, 6S, 4C, AH, KC, 2C, ##, ##, ##, 5H, 5S, ##, ##, 2S, KD, ##, 9S, 4H, AC, KS, ##, 9C, ##, ##, ##, 6C, 8D, ##, 3C, AD, 2H, ##, ##, KH, ##, JC]\n"
     ]
    }
   ],
   "source": [
    "d.shuffle()\n",
    "print(d)"
   ]
  },
  {
   "cell_type": "code",
   "execution_count": 193,
   "metadata": {
    "collapsed": false
   },
   "outputs": [
    {
     "name": "stdout",
     "output_type": "stream",
     "text": [
      "#####\n",
      "J of Hearts\n",
      "10 of Clubs\n",
      "6 of Diamonds\n",
      "3 of Diamonds\n",
      "A of Spades\n",
      "4 of Diamonds\n",
      "Q of Clubs\n",
      "#####\n",
      "6 of Hearts\n",
      "Q of Diamonds\n",
      "#####\n",
      "10 of Spades\n",
      "#####\n",
      "2 of Diamonds\n",
      "4 of Spades\n",
      "8 of Spades\n",
      "6 of Spades\n",
      "4 of Clubs\n",
      "A of Hearts\n",
      "K of Clubs\n",
      "2 of Clubs\n",
      "#####\n",
      "#####\n",
      "#####\n",
      "5 of Hearts\n",
      "5 of Spades\n",
      "#####\n",
      "#####\n",
      "2 of Spades\n",
      "K of Diamonds\n",
      "#####\n",
      "9 of Spades\n",
      "4 of Hearts\n",
      "A of Clubs\n",
      "K of Spades\n",
      "#####\n",
      "9 of Clubs\n",
      "#####\n",
      "#####\n",
      "#####\n",
      "6 of Clubs\n",
      "8 of Diamonds\n",
      "#####\n",
      "3 of Clubs\n",
      "A of Diamonds\n",
      "2 of Hearts\n",
      "#####\n",
      "#####\n",
      "K of Hearts\n",
      "#####\n",
      "J of Clubs\n"
     ]
    }
   ],
   "source": [
    "for c in d:\n",
    "    print(c)"
   ]
  },
  {
   "cell_type": "code",
   "execution_count": null,
   "metadata": {
    "collapsed": false
   },
   "outputs": [],
   "source": []
  },
  {
   "cell_type": "code",
   "execution_count": null,
   "metadata": {
    "collapsed": true
   },
   "outputs": [],
   "source": []
  }
 ],
 "metadata": {
  "kernelspec": {
   "display_name": "Python 3",
   "language": "python",
   "name": "python3"
  },
  "language_info": {
   "codemirror_mode": {
    "name": "ipython",
    "version": 3
   },
   "file_extension": ".py",
   "mimetype": "text/x-python",
   "name": "python",
   "nbconvert_exporter": "python",
   "pygments_lexer": "ipython3",
   "version": "3.5.2"
  }
 },
 "nbformat": 4,
 "nbformat_minor": 1
}
