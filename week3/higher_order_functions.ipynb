{
 "cells": [
  {
   "cell_type": "code",
   "execution_count": 3,
   "metadata": {
    "collapsed": false
   },
   "outputs": [],
   "source": [
    "all_false = [False, False, False, False]\n",
    "all_true = [True, True, True, True]\n",
    "mix = [True, False, False, True]"
   ]
  },
  {
   "cell_type": "code",
   "execution_count": 4,
   "metadata": {
    "collapsed": false,
    "scrolled": true
   },
   "outputs": [
    {
     "name": "stdout",
     "output_type": "stream",
     "text": [
      "False\n",
      "True\n",
      "True\n"
     ]
    }
   ],
   "source": [
    "print(any(all_false))\n",
    "print(any(all_true))\n",
    "print(any(mix))"
   ]
  },
  {
   "cell_type": "code",
   "execution_count": 5,
   "metadata": {
    "collapsed": false
   },
   "outputs": [
    {
     "name": "stdout",
     "output_type": "stream",
     "text": [
      "False\n",
      "True\n",
      "False\n"
     ]
    }
   ],
   "source": [
    "print(all(all_false))\n",
    "print(all(all_true))\n",
    "print(all(mix))"
   ]
  },
  {
   "cell_type": "code",
   "execution_count": 26,
   "metadata": {
    "collapsed": false
   },
   "outputs": [],
   "source": [
    "def apply_math(n, f):\n",
    "    for i in range(n):\n",
    "        print(i, f(i, i))"
   ]
  },
  {
   "cell_type": "code",
   "execution_count": 32,
   "metadata": {
    "collapsed": false
   },
   "outputs": [
    {
     "name": "stdout",
     "output_type": "stream",
     "text": [
      "0 \n",
      "1 1 hi mom\n",
      "2 2 hi mom2 hi mom\n",
      "3 3 hi mom3 hi mom3 hi mom\n",
      "4 4 hi mom4 hi mom4 hi mom4 hi mom\n",
      "5 5 hi mom5 hi mom5 hi mom5 hi mom5 hi mom\n",
      "6 6 hi mom6 hi mom6 hi mom6 hi mom6 hi mom6 hi mom\n",
      "7 7 hi mom7 hi mom7 hi mom7 hi mom7 hi mom7 hi mom7 hi mom\n",
      "8 8 hi mom8 hi mom8 hi mom8 hi mom8 hi mom8 hi mom8 hi mom8 hi mom\n",
      "9 9 hi mom9 hi mom9 hi mom9 hi mom9 hi mom9 hi mom9 hi mom9 hi mom9 hi mom\n"
     ]
    }
   ],
   "source": [
    "def g(x):\n",
    "    return x*x\n",
    "\n",
    "def h(x):\n",
    "    return x**3\n",
    "\n",
    "apply_math(10, lambda var1, var2: (str(var1) + \" hi mom\") * var2)\n",
    "# apply_math(10, h) "
   ]
  },
  {
   "cell_type": "code",
   "execution_count": 53,
   "metadata": {
    "collapsed": true
   },
   "outputs": [],
   "source": [
    "def print_dictionary_sorted_by_value(d):\n",
    "    for key, value in sorted(d.items(), key=lambda x: x[1][-1]):\n",
    "        print(key, value)"
   ]
  },
  {
   "cell_type": "code",
   "execution_count": 54,
   "metadata": {
    "collapsed": true
   },
   "outputs": [],
   "source": [
    "my_dict = {\"key\": \"value\", \"coffee\":\"necessary\", \"beer\":\"necessarier\", \"water\": \"life\", \"food\": \"yum\", \"apple\": \"cider\"}"
   ]
  },
  {
   "cell_type": "code",
   "execution_count": 55,
   "metadata": {
    "collapsed": false
   },
   "outputs": [
    {
     "name": "stdout",
     "output_type": "stream",
     "text": [
      "key value\n",
      "water life\n",
      "food yum\n",
      "beer necessarier\n",
      "apple cider\n",
      "coffee necessary\n"
     ]
    }
   ],
   "source": [
    "print_dictionary_sorted_by_value(my_dict)"
   ]
  },
  {
   "cell_type": "code",
   "execution_count": null,
   "metadata": {
    "collapsed": false
   },
   "outputs": [],
   "source": []
  },
  {
   "cell_type": "code",
   "execution_count": 59,
   "metadata": {
    "collapsed": false
   },
   "outputs": [
    {
     "data": {
      "text/plain": [
       "<map at 0x1029fd198>"
      ]
     },
     "execution_count": 59,
     "metadata": {},
     "output_type": "execute_result"
    }
   ],
   "source": [
    "times_two = lambda x: x * 2\n",
    "\n",
    "numbers = [1, 2, 3, 4, 5]\n",
    "\n",
    "numbers_times_two = map(times_two, numbers)\n",
    "\n",
    "list(numbers_times_two)\n"
   ]
  },
  {
   "cell_type": "code",
   "execution_count": 60,
   "metadata": {
    "collapsed": false
   },
   "outputs": [
    {
     "name": "stdout",
     "output_type": "stream",
     "text": [
      "[1, 1, 3, 5, 13, 21, 55]\n",
      "[0, 2, 8, 34]\n"
     ]
    }
   ],
   "source": [
    "fibs = [0, 1, 1, 2, 3, 5, 8, 13, 21, 34, 55]\n",
    "\n",
    "odd_fibs = filter(lambda x: x % 2, fibs)\n",
    "\n",
    "print(list(odd_fibs))\n",
    "\n",
    "even_fibs = filter(lambda x: x % 2 == 0, fibs)\n",
    "\n",
    "print(list(even_fibs))"
   ]
  },
  {
   "cell_type": "code",
   "execution_count": 68,
   "metadata": {
    "collapsed": false,
    "scrolled": true
   },
   "outputs": [
    {
     "name": "stdout",
     "output_type": "stream",
     "text": [
      "47 11\n",
      "517 42\n",
      "21714 13\n"
     ]
    },
    {
     "data": {
      "text/plain": [
       "282282"
      ]
     },
     "execution_count": 68,
     "metadata": {},
     "output_type": "execute_result"
    }
   ],
   "source": [
    "from functools import reduce\n",
    "def f(x,y):\n",
    "    print(x,y)\n",
    "    return x*y\n",
    "\n",
    "reduce(lambda x, y: f(x,y), [47, 11, 42, 13])"
   ]
  },
  {
   "cell_type": "code",
   "execution_count": null,
   "metadata": {
    "collapsed": true
   },
   "outputs": [],
   "source": []
  },
  {
   "cell_type": "code",
   "execution_count": null,
   "metadata": {
    "collapsed": true
   },
   "outputs": [],
   "source": []
  }
 ],
 "metadata": {
  "kernelspec": {
   "display_name": "Python 3",
   "language": "python",
   "name": "python3"
  },
  "language_info": {
   "codemirror_mode": {
    "name": "ipython",
    "version": 3
   },
   "file_extension": ".py",
   "mimetype": "text/x-python",
   "name": "python",
   "nbconvert_exporter": "python",
   "pygments_lexer": "ipython3",
   "version": "3.5.2"
  }
 },
 "nbformat": 4,
 "nbformat_minor": 1
}
