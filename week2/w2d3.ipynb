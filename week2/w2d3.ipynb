{
 "cells": [
  {
   "cell_type": "code",
   "execution_count": 3,
   "metadata": {
    "collapsed": false
   },
   "outputs": [
    {
     "name": "stdout",
     "output_type": "stream",
     "text": [
      "[0, 7, 14, 21, 28, 35, 42, 49, 56, 63, 70, 77, 84, 91, 98, 105, 112, 119, 126, 133, 140, 147, 154, 161, 168, 175, 182, 189, 196, 203, 210, 217, 224, 231, 238, 245, 252, 259, 266, 273, 280, 287, 294, 301, 308, 315, 322, 329, 336, 343, 350, 357, 364, 371, 378, 385, 392, 399, 406, 413, 420, 427, 434, 441, 448, 455, 462, 469, 476, 483, 490, 497, 504, 511, 518, 525, 532, 539, 546, 553, 560, 567, 574, 581, 588, 595, 602, 609, 616, 623, 630, 637, 644, 651, 658, 665, 672, 679, 686, 693, 700, 707, 714, 721, 728, 735, 742, 749, 756, 763, 770, 777, 784, 791, 798, 805, 812, 819, 826, 833, 840, 847, 854, 861, 868, 875, 882, 889, 896, 903, 910, 917, 924, 931, 938, 945, 952, 959, 966, 973, 980, 987, 994]\n"
     ]
    }
   ],
   "source": [
    "one_thousand = list(range(1001))\n",
    "new_list = []\n",
    "for num in one_thousand:\n",
    "    if num % 7 == 0:\n",
    "        new_list.append(num)\n",
    "\n",
    "print(new_list)"
   ]
  },
  {
   "cell_type": "code",
   "execution_count": 7,
   "metadata": {
    "collapsed": true
   },
   "outputs": [],
   "source": [
    "another_new_list = [\"hi mom\" for x in one_thousand if x % 7 == 0]"
   ]
  },
  {
   "cell_type": "code",
   "execution_count": 8,
   "metadata": {
    "collapsed": false
   },
   "outputs": [
    {
     "name": "stdout",
     "output_type": "stream",
     "text": [
      "['hi mom', 'hi mom', 'hi mom', 'hi mom', 'hi mom', 'hi mom', 'hi mom', 'hi mom', 'hi mom', 'hi mom', 'hi mom', 'hi mom', 'hi mom', 'hi mom', 'hi mom', 'hi mom', 'hi mom', 'hi mom', 'hi mom', 'hi mom', 'hi mom', 'hi mom', 'hi mom', 'hi mom', 'hi mom', 'hi mom', 'hi mom', 'hi mom', 'hi mom', 'hi mom', 'hi mom', 'hi mom', 'hi mom', 'hi mom', 'hi mom', 'hi mom', 'hi mom', 'hi mom', 'hi mom', 'hi mom', 'hi mom', 'hi mom', 'hi mom', 'hi mom', 'hi mom', 'hi mom', 'hi mom', 'hi mom', 'hi mom', 'hi mom', 'hi mom', 'hi mom', 'hi mom', 'hi mom', 'hi mom', 'hi mom', 'hi mom', 'hi mom', 'hi mom', 'hi mom', 'hi mom', 'hi mom', 'hi mom', 'hi mom', 'hi mom', 'hi mom', 'hi mom', 'hi mom', 'hi mom', 'hi mom', 'hi mom', 'hi mom', 'hi mom', 'hi mom', 'hi mom', 'hi mom', 'hi mom', 'hi mom', 'hi mom', 'hi mom', 'hi mom', 'hi mom', 'hi mom', 'hi mom', 'hi mom', 'hi mom', 'hi mom', 'hi mom', 'hi mom', 'hi mom', 'hi mom', 'hi mom', 'hi mom', 'hi mom', 'hi mom', 'hi mom', 'hi mom', 'hi mom', 'hi mom', 'hi mom', 'hi mom', 'hi mom', 'hi mom', 'hi mom', 'hi mom', 'hi mom', 'hi mom', 'hi mom', 'hi mom', 'hi mom', 'hi mom', 'hi mom', 'hi mom', 'hi mom', 'hi mom', 'hi mom', 'hi mom', 'hi mom', 'hi mom', 'hi mom', 'hi mom', 'hi mom', 'hi mom', 'hi mom', 'hi mom', 'hi mom', 'hi mom', 'hi mom', 'hi mom', 'hi mom', 'hi mom', 'hi mom', 'hi mom', 'hi mom', 'hi mom', 'hi mom', 'hi mom', 'hi mom', 'hi mom', 'hi mom', 'hi mom', 'hi mom', 'hi mom']\n"
     ]
    }
   ],
   "source": [
    "print(another_new_list)"
   ]
  },
  {
   "cell_type": "code",
   "execution_count": 9,
   "metadata": {
    "collapsed": true
   },
   "outputs": [],
   "source": [
    "ten = range(10)"
   ]
  },
  {
   "cell_type": "code",
   "execution_count": 10,
   "metadata": {
    "collapsed": false
   },
   "outputs": [
    {
     "data": {
      "text/plain": [
       "[0, 1, 4, 9, 16, 25, 36, 49, 64, 81]"
      ]
     },
     "execution_count": 10,
     "metadata": {},
     "output_type": "execute_result"
    }
   ],
   "source": [
    "[x**2 for x in ten]"
   ]
  },
  {
   "cell_type": "code",
   "execution_count": 11,
   "metadata": {
    "collapsed": false
   },
   "outputs": [
    {
     "data": {
      "text/plain": [
       "[1, 9, 25, 49, 81]"
      ]
     },
     "execution_count": 11,
     "metadata": {},
     "output_type": "execute_result"
    }
   ],
   "source": [
    "[x**2 for x in ten if x % 2]"
   ]
  },
  {
   "cell_type": "code",
   "execution_count": 27,
   "metadata": {
    "collapsed": false
   },
   "outputs": [
    {
     "data": {
      "text/plain": [
       "['zAqqUm']"
      ]
     },
     "execution_count": 27,
     "metadata": {},
     "output_type": "execute_result"
    }
   ],
   "source": [
    "with open(\"/usr/share/dict/words\") as f:\n",
    "    word_list = f.read().split()\n",
    "\n",
    "def upper_vowels(word):\n",
    "    lov = \"aeiouAEIOU\"\n",
    "    wl = [letter.upper() if (letter in lov) else letter.lower() for letter in word]\n",
    "    return \"\".join(wl)\n",
    "\n",
    "[ upper_vowels(word) for word in word_list if \"qq\" in word and \"z\" in word]"
   ]
  },
  {
   "cell_type": "code",
   "execution_count": 24,
   "metadata": {
    "collapsed": true
   },
   "outputs": [],
   "source": [
    "#ternary statement.\n",
    "def lhs():\n",
    "    print(\"lhs\")\n",
    "\n",
    "def rhs():\n",
    "    print(\"rhs\")\n",
    "\n",
    "    "
   ]
  },
  {
   "cell_type": "code",
   "execution_count": 26,
   "metadata": {
    "collapsed": false
   },
   "outputs": [
    {
     "name": "stdout",
     "output_type": "stream",
     "text": [
      "rhs\n"
     ]
    }
   ],
   "source": [
    "lhs() if False else rhs()"
   ]
  },
  {
   "cell_type": "code",
   "execution_count": 28,
   "metadata": {
    "collapsed": false
   },
   "outputs": [
    {
     "data": {
      "text/plain": [
       "[0, 1, 4, 9, 16, 25, 36, 49, 64, 81]"
      ]
     },
     "execution_count": 28,
     "metadata": {},
     "output_type": "execute_result"
    }
   ],
   "source": [
    "[x**2 for x in ten]"
   ]
  },
  {
   "cell_type": "code",
   "execution_count": 34,
   "metadata": {
    "collapsed": false
   },
   "outputs": [],
   "source": [
    "tup = (x**2 for x in ten)"
   ]
  },
  {
   "cell_type": "code",
   "execution_count": 39,
   "metadata": {
    "collapsed": false
   },
   "outputs": [
    {
     "data": {
      "text/plain": [
       "{0: 'even',\n",
       " 1: 'odd',\n",
       " 2: 'even',\n",
       " 3: 'odd',\n",
       " 4: 'even',\n",
       " 5: 'odd',\n",
       " 6: 'even',\n",
       " 7: 'odd',\n",
       " 8: 'even',\n",
       " 9: 'odd'}"
      ]
     },
     "execution_count": 39,
     "metadata": {},
     "output_type": "execute_result"
    }
   ],
   "source": [
    "def get_even_odd_str(x):\n",
    "    return \"odd\" if x % 2 else \"even\"\n",
    "{integer:get_even_odd_str(integer) for integer in ten}"
   ]
  },
  {
   "cell_type": "code",
   "execution_count": 46,
   "metadata": {
    "collapsed": false
   },
   "outputs": [
    {
     "data": {
      "text/plain": [
       "{0, 1, 2, 3, 4, 5, 6, 7, 8, 9}"
      ]
     },
     "execution_count": 46,
     "metadata": {},
     "output_type": "execute_result"
    }
   ],
   "source": [
    "{x for x in list(ten) * 100}"
   ]
  },
  {
   "cell_type": "code",
   "execution_count": 61,
   "metadata": {
    "collapsed": true
   },
   "outputs": [],
   "source": [
    "set1 = set([\"cat\", \"dog\"])     # Initialize set from a list\n",
    "set2 = set([\"dog\", \"mouse\"])\n",
    "setN = set([\"cat\", \"mouse\", \"horse\", \"dog\"])"
   ]
  },
  {
   "cell_type": "code",
   "execution_count": 55,
   "metadata": {
    "collapsed": false
   },
   "outputs": [
    {
     "data": {
      "text/plain": [
       "{'dog'}"
      ]
     },
     "execution_count": 55,
     "metadata": {},
     "output_type": "execute_result"
    }
   ],
   "source": [
    "set3 = set1 & set2 \n",
    "set3"
   ]
  },
  {
   "cell_type": "code",
   "execution_count": 56,
   "metadata": {
    "collapsed": false
   },
   "outputs": [
    {
     "data": {
      "text/plain": [
       "{'cat', 'dog', 'mouse'}"
      ]
     },
     "execution_count": 56,
     "metadata": {},
     "output_type": "execute_result"
    }
   ],
   "source": [
    "set4 = set1 | set2\n",
    "set4"
   ]
  },
  {
   "cell_type": "code",
   "execution_count": 57,
   "metadata": {
    "collapsed": false
   },
   "outputs": [
    {
     "data": {
      "text/plain": [
       "{'cat'}"
      ]
     },
     "execution_count": 57,
     "metadata": {},
     "output_type": "execute_result"
    }
   ],
   "source": [
    "set5 = set1 - set3 \n",
    "set5"
   ]
  },
  {
   "cell_type": "code",
   "execution_count": 58,
   "metadata": {
    "collapsed": false
   },
   "outputs": [
    {
     "data": {
      "text/plain": [
       "{'cat'}"
      ]
     },
     "execution_count": 58,
     "metadata": {},
     "output_type": "execute_result"
    }
   ],
   "source": [
    "set1 - set2"
   ]
  },
  {
   "cell_type": "code",
   "execution_count": 60,
   "metadata": {
    "collapsed": false
   },
   "outputs": [
    {
     "data": {
      "text/plain": [
       "{'cat', 'mouse'}"
      ]
     },
     "execution_count": 60,
     "metadata": {},
     "output_type": "execute_result"
    }
   ],
   "source": [
    "set6 = set1 ^ set2\n",
    "set6"
   ]
  },
  {
   "cell_type": "code",
   "execution_count": 99,
   "metadata": {
    "collapsed": false
   },
   "outputs": [],
   "source": [
    "def splat_args_function(positional_arg, *many_args):\n",
    "    print(positional_arg)\n",
    "    print(many_args)\n",
    "    "
   ]
  },
  {
   "cell_type": "code",
   "execution_count": 108,
   "metadata": {
    "collapsed": false
   },
   "outputs": [],
   "source": [
    "def three_positional_args_func(one, two, three):\n",
    "    print(one)\n",
    "    print(two)\n",
    "    print(three)\n",
    "    "
   ]
  },
  {
   "cell_type": "code",
   "execution_count": 110,
   "metadata": {
    "collapsed": false
   },
   "outputs": [
    {
     "name": "stdout",
     "output_type": "stream",
     "text": [
      "beer\n",
      "coffee\n",
      "water\n"
     ]
    }
   ],
   "source": [
    "three_positional_args_func(*[\"beer\", \"coffee\", \"water\"])"
   ]
  },
  {
   "cell_type": "code",
   "execution_count": 112,
   "metadata": {
    "collapsed": false
   },
   "outputs": [
    {
     "name": "stdout",
     "output_type": "stream",
     "text": [
      "beer\n",
      "coffee\n",
      "water\n"
     ]
    }
   ],
   "source": [
    "three_positional_args_func(\"beer\", \"coffee\", \"water\")"
   ]
  },
  {
   "cell_type": "code",
   "execution_count": 113,
   "metadata": {
    "collapsed": true
   },
   "outputs": [],
   "source": [
    "def print_args(*args):\n",
    "    for index, arg in enumerate(args):\n",
    "        print(\"{} {}\".format(index, arg))"
   ]
  },
  {
   "cell_type": "code",
   "execution_count": 115,
   "metadata": {
    "collapsed": false
   },
   "outputs": [
    {
     "name": "stdout",
     "output_type": "stream",
     "text": [
      "0 coffee\n",
      "1 beer\n",
      "2 water\n",
      "3 OJ\n",
      "4 Milk\n"
     ]
    }
   ],
   "source": [
    "print_args(\"coffee\", \"beer\", \"water\", \"OJ\", \"Milk\")"
   ]
  },
  {
   "cell_type": "code",
   "execution_count": 119,
   "metadata": {
    "collapsed": true
   },
   "outputs": [],
   "source": [
    "def ex_key_word_args(**kwargs):\n",
    "    print(kwargs)\n",
    "    print(type(kwargs))"
   ]
  },
  {
   "cell_type": "code",
   "execution_count": 122,
   "metadata": {
    "collapsed": false
   },
   "outputs": [
    {
     "name": "stdout",
     "output_type": "stream",
     "text": [
      "{'blah': 'di', 'amount': 4, 'key': 'value'}\n",
      "<class 'dict'>\n"
     ]
    }
   ],
   "source": [
    "ex_key_word_args(key=\"value\", amount=4, blah=\"di\")"
   ]
  },
  {
   "cell_type": "code",
   "execution_count": 126,
   "metadata": {
    "collapsed": false
   },
   "outputs": [
    {
     "name": "stdout",
     "output_type": "stream",
     "text": [
      "0 <--> 1 <--> 2 <--> 3 <--> 4 <--> 5 <--> 6 <--> 7 <--> 8 <--> 9I'm done!"
     ]
    }
   ],
   "source": [
    "print(*range(10),end=\"I'm done!\", sep=\" <--> \")"
   ]
  },
  {
   "cell_type": "code",
   "execution_count": 128,
   "metadata": {
    "collapsed": true
   },
   "outputs": [],
   "source": [
    "def our_own_print(*to_print, end=\"\\n\", sep=\" \"):\n",
    "    return sep.join([str(elem) for elem in to_print]) + end"
   ]
  },
  {
   "cell_type": "code",
   "execution_count": 131,
   "metadata": {
    "collapsed": false
   },
   "outputs": [
    {
     "data": {
      "text/plain": [
       "\"5 <--> 6 <--> 7I'm done!\""
      ]
     },
     "execution_count": 131,
     "metadata": {},
     "output_type": "execute_result"
    }
   ],
   "source": [
    "our_own_print(5,6,7, end=\"I'm done!\", sep=\" <--> \")"
   ]
  },
  {
   "cell_type": "code",
   "execution_count": 132,
   "metadata": {
    "collapsed": true
   },
   "outputs": [],
   "source": [
    "my_dict = {\"coffee\": \"morning\", \"beer\": \"afternoon\", \"water\": \"for life\"}"
   ]
  },
  {
   "cell_type": "code",
   "execution_count": 133,
   "metadata": {
    "collapsed": false
   },
   "outputs": [
    {
     "name": "stdout",
     "output_type": "stream",
     "text": [
      "{'water': 'for life', 'coffee': 'morning', 'beer': 'afternoon'}\n",
      "<class 'dict'>\n"
     ]
    }
   ],
   "source": [
    "ex_key_word_args(**my_dict)"
   ]
  },
  {
   "cell_type": "code",
   "execution_count": 136,
   "metadata": {
    "collapsed": true
   },
   "outputs": [],
   "source": [
    "printkw = {\"sep\": \"+++\", \"end\": \"\\n\\n\\nend\"}"
   ]
  },
  {
   "cell_type": "code",
   "execution_count": 137,
   "metadata": {
    "collapsed": false
   },
   "outputs": [
    {
     "name": "stdout",
     "output_type": "stream",
     "text": [
      "1+++2+++3\n",
      "\n",
      "\n",
      "end"
     ]
    }
   ],
   "source": [
    "print(1,2,3, **printkw)"
   ]
  },
  {
   "cell_type": "code",
   "execution_count": 138,
   "metadata": {
    "collapsed": true
   },
   "outputs": [],
   "source": [
    "# Enumerate and ZIP"
   ]
  },
  {
   "cell_type": "code",
   "execution_count": 140,
   "metadata": {
    "collapsed": false
   },
   "outputs": [
    {
     "name": "stdout",
     "output_type": "stream",
     "text": [
      "(0, 'coffee')\n",
      "(1, 'beer')\n",
      "(2, 'water')\n"
     ]
    }
   ],
   "source": [
    "my_list = [\"coffee\", \"beer\", \"water\"]\n",
    "for index in enumerate(my_list):\n",
    "    print(index)\n",
    "\n",
    "#enumerate of a list returns an iterable of tuples with the 0th element \n",
    "#being the index and the 1th element being the value from the list."
   ]
  },
  {
   "cell_type": "code",
   "execution_count": 150,
   "metadata": {
    "collapsed": false
   },
   "outputs": [
    {
     "name": "stdout",
     "output_type": "stream",
     "text": [
      "coffee best one\n",
      "beer good two\n",
      "water ok three\n"
     ]
    }
   ],
   "source": [
    "for lhs, rhs, other in zip([\"coffee\", \"beer\", \"water\"], [\"best\", \"good\", \"ok\"], [\"one\", \"two\", \"three\"]):\n",
    "    print(lhs, rhs, other)"
   ]
  },
  {
   "cell_type": "code",
   "execution_count": null,
   "metadata": {
    "collapsed": true
   },
   "outputs": [],
   "source": []
  }
 ],
 "metadata": {
  "kernelspec": {
   "display_name": "Python 3",
   "language": "python",
   "name": "python3"
  },
  "language_info": {
   "codemirror_mode": {
    "name": "ipython",
    "version": 3
   },
   "file_extension": ".py",
   "mimetype": "text/x-python",
   "name": "python",
   "nbconvert_exporter": "python",
   "pygments_lexer": "ipython3",
   "version": "3.5.2"
  }
 },
 "nbformat": 4,
 "nbformat_minor": 1
}
